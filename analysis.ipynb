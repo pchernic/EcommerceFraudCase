{
 "cells": [
  {
   "cell_type": "markdown",
   "id": "ca716c0a",
   "metadata": {},
   "source": [
    "# B2B Ecommerce Fraud Case Study 📦\n",
    "Analyzing courier charge discrepancies in B2B transactions."
   ]
  },
  {
   "cell_type": "code",
   "execution_count": 22,
   "id": "faeb852b",
   "metadata": {},
   "outputs": [],
   "source": [
    "import pandas as pd\n",
    "\n",
    "order_report = pd.read_csv('Order Report.csv')\n",
    "sku_master = pd.read_csv('SKU Master.csv')\n",
    "pincode_mapping = pd.read_csv('pincodes.csv')\n",
    "courier_invoice = pd.read_csv('Invoice.csv')\n",
    "courier_company_rates = pd.read_csv('Courier Company - Rates.csv')"
   ]
  },
  {
   "cell_type": "code",
   "execution_count": 23,
   "id": "da81a62e",
   "metadata": {},
   "outputs": [
    {
     "name": "stdout",
     "output_type": "stream",
     "text": [
      "Order Report:\n",
      "   ExternOrderNo            SKU  Order Qty  Unnamed: 3  Unnamed: 4\n",
      "0     2001827036  8904223818706        1.0         NaN         NaN\n",
      "1     2001827036  8904223819093        1.0         NaN         NaN\n",
      "2     2001827036  8904223819109        1.0         NaN         NaN\n",
      "3     2001827036  8904223818430        1.0         NaN         NaN\n",
      "4     2001827036  8904223819277        1.0         NaN         NaN\n",
      "\n",
      "SKU Master:\n",
      "             SKU  Weight (g)  Unnamed: 2  Unnamed: 3  Unnamed: 4\n",
      "0  8904223815682         210         NaN         NaN         NaN\n",
      "1  8904223815859         165         NaN         NaN         NaN\n",
      "2  8904223815866         113         NaN         NaN         NaN\n",
      "3  8904223815873          65         NaN         NaN         NaN\n",
      "4  8904223816214         120         NaN         NaN         NaN\n",
      "\n",
      "Pincode Mapping:\n",
      "   Warehouse Pincode  Customer Pincode Zone  Unnamed: 3  Unnamed: 4\n",
      "0             121003            507101    d         NaN         NaN\n",
      "1             121003            486886    d         NaN         NaN\n",
      "2             121003            532484    d         NaN         NaN\n",
      "3             121003            143001    b         NaN         NaN\n",
      "4             121003            515591    d         NaN         NaN\n",
      "\n",
      "Courier Invoice:\n",
      "        AWB Code    Order ID  Charged Weight  Warehouse Pincode  \\\n",
      "0  1091117222124  2001806232            1.30             121003   \n",
      "1  1091117222194  2001806273            1.00             121003   \n",
      "2  1091117222931  2001806408            2.50             121003   \n",
      "3  1091117223244  2001806458            1.00             121003   \n",
      "4  1091117229345  2001807012            0.15             121003   \n",
      "\n",
      "   Customer Pincode Zone Type of Shipment  Billing Amount (Rs.)  \n",
      "0            507101    d  Forward charges                 135.0  \n",
      "1            486886    d  Forward charges                  90.2  \n",
      "2            532484    d  Forward charges                 224.6  \n",
      "3            143001    b  Forward charges                  61.3  \n",
      "4            515591    d  Forward charges                  45.4  \n",
      "\n",
      "Courier Company rates:\n",
      "   fwd_a_fixed  fwd_a_additional  fwd_b_fixed  fwd_b_additional  fwd_c_fixed  \\\n",
      "0         29.5              23.6           33              28.3         40.1   \n",
      "\n",
      "   fwd_c_additional  fwd_d_fixed  fwd_d_additional  fwd_e_fixed  \\\n",
      "0              38.9         45.4              44.8         56.6   \n",
      "\n",
      "   fwd_e_additional  rto_a_fixed  rto_a_additional  rto_b_fixed  \\\n",
      "0              55.5         13.6              23.6         20.5   \n",
      "\n",
      "   rto_b_additional  rto_c_fixed  rto_c_additional  rto_d_fixed  \\\n",
      "0              28.3         31.9              38.9         41.3   \n",
      "\n",
      "   rto_d_additional  rto_e_fixed  rto_e_additional  \n",
      "0              44.8         50.7              55.5  \n"
     ]
    }
   ],
   "source": [
    "print(\"Order Report:\")\n",
    "print(order_report.head())\n",
    "print(\"\\nSKU Master:\")\n",
    "print(sku_master.head())\n",
    "print(\"\\nPincode Mapping:\")\n",
    "print(pincode_mapping.head())\n",
    "print(\"\\nCourier Invoice:\")\n",
    "print(courier_invoice.head())\n",
    "print(\"\\nCourier Company rates:\")\n",
    "print(courier_company_rates.head())"
   ]
  },
  {
   "cell_type": "code",
   "execution_count": 24,
   "id": "20ffefc2",
   "metadata": {},
   "outputs": [
    {
     "name": "stdout",
     "output_type": "stream",
     "text": [
      "\n",
      "Missing values in Website Order Report:\n",
      "ExternOrderNo      0\n",
      "SKU                0\n",
      "Order Qty          0\n",
      "Unnamed: 3       400\n",
      "Unnamed: 4       400\n",
      "dtype: int64\n",
      "\n",
      "Missing values in SKU Master:\n",
      "SKU            0\n",
      "Weight (g)     0\n",
      "Unnamed: 2    66\n",
      "Unnamed: 3    66\n",
      "Unnamed: 4    66\n",
      "dtype: int64\n",
      "\n",
      "Missing values in Pincode Mapping:\n",
      "Warehouse Pincode      0\n",
      "Customer Pincode       0\n",
      "Zone                   0\n",
      "Unnamed: 3           124\n",
      "Unnamed: 4           124\n",
      "dtype: int64\n",
      "\n",
      "Missing values in Courier Invoice:\n",
      "AWB Code                0\n",
      "Order ID                0\n",
      "Charged Weight          0\n",
      "Warehouse Pincode       0\n",
      "Customer Pincode        0\n",
      "Zone                    0\n",
      "Type of Shipment        0\n",
      "Billing Amount (Rs.)    0\n",
      "dtype: int64\n",
      "\n",
      "Missing values in courier company rates:\n",
      "fwd_a_fixed         0\n",
      "fwd_a_additional    0\n",
      "fwd_b_fixed         0\n",
      "fwd_b_additional    0\n",
      "fwd_c_fixed         0\n",
      "fwd_c_additional    0\n",
      "fwd_d_fixed         0\n",
      "fwd_d_additional    0\n",
      "fwd_e_fixed         0\n",
      "fwd_e_additional    0\n",
      "rto_a_fixed         0\n",
      "rto_a_additional    0\n",
      "rto_b_fixed         0\n",
      "rto_b_additional    0\n",
      "rto_c_fixed         0\n",
      "rto_c_additional    0\n",
      "rto_d_fixed         0\n",
      "rto_d_additional    0\n",
      "rto_e_fixed         0\n",
      "rto_e_additional    0\n",
      "dtype: int64\n"
     ]
    }
   ],
   "source": [
    "# Check for missing values\n",
    "print(\"\\nMissing values in Website Order Report:\")\n",
    "print(order_report.isnull().sum())\n",
    "print(\"\\nMissing values in SKU Master:\")\n",
    "print(sku_master.isnull().sum())\n",
    "print(\"\\nMissing values in Pincode Mapping:\")\n",
    "print(pincode_mapping.isnull().sum())\n",
    "print(\"\\nMissing values in Courier Invoice:\")\n",
    "print(courier_invoice.isnull().sum())\n",
    "print(\"\\nMissing values in courier company rates:\")\n",
    "print(courier_company_rates.isnull().sum())"
   ]
  },
  {
   "cell_type": "markdown",
   "id": "a69c1cb1",
   "metadata": {},
   "source": [
    "Cleaning missing data\n"
   ]
  },
  {
   "cell_type": "code",
   "execution_count": 25,
   "id": "ea58ec6a",
   "metadata": {},
   "outputs": [],
   "source": [
    "# Remove unnamed columns from the Website Order Report DataFrame\n",
    "order_report = order_report.drop(columns=['Unnamed: 3', 'Unnamed: 4'])\n",
    "\n",
    "# Remove unnamed columns from the SKU Master DataFrame\n",
    "sku_master = sku_master.drop(columns=['Unnamed: 2', 'Unnamed: 3', 'Unnamed: 4'])\n",
    "\n",
    "# Remove unnamed columns from the Pincode Mapping DataFrame\n",
    "pincode_mapping = pincode_mapping.drop(columns=['Unnamed: 3', 'Unnamed: 4'])"
   ]
  },
  {
   "cell_type": "markdown",
   "id": "e544809a",
   "metadata": {},
   "source": [
    "Once we have cleaning missing data and eliminated it, we can proceed with structuring the datasets. Our common column is SKU, so lets merge order_report with sku_master on SKU"
   ]
  },
  {
   "cell_type": "code",
   "execution_count": 26,
   "id": "656ff8f1",
   "metadata": {},
   "outputs": [
    {
     "data": {
      "text/html": [
       "<div>\n",
       "<style scoped>\n",
       "    .dataframe tbody tr th:only-of-type {\n",
       "        vertical-align: middle;\n",
       "    }\n",
       "\n",
       "    .dataframe tbody tr th {\n",
       "        vertical-align: top;\n",
       "    }\n",
       "\n",
       "    .dataframe thead th {\n",
       "        text-align: right;\n",
       "    }\n",
       "</style>\n",
       "<table border=\"1\" class=\"dataframe\">\n",
       "  <thead>\n",
       "    <tr style=\"text-align: right;\">\n",
       "      <th></th>\n",
       "      <th>ExternOrderNo</th>\n",
       "      <th>SKU</th>\n",
       "      <th>Order Qty</th>\n",
       "      <th>Weight (g)</th>\n",
       "    </tr>\n",
       "  </thead>\n",
       "  <tbody>\n",
       "    <tr>\n",
       "      <th>0</th>\n",
       "      <td>2001827036</td>\n",
       "      <td>8904223818706</td>\n",
       "      <td>1.0</td>\n",
       "      <td>127</td>\n",
       "    </tr>\n",
       "    <tr>\n",
       "      <th>1</th>\n",
       "      <td>2001827036</td>\n",
       "      <td>8904223819093</td>\n",
       "      <td>1.0</td>\n",
       "      <td>150</td>\n",
       "    </tr>\n",
       "    <tr>\n",
       "      <th>2</th>\n",
       "      <td>2001827036</td>\n",
       "      <td>8904223819109</td>\n",
       "      <td>1.0</td>\n",
       "      <td>100</td>\n",
       "    </tr>\n",
       "    <tr>\n",
       "      <th>3</th>\n",
       "      <td>2001827036</td>\n",
       "      <td>8904223818430</td>\n",
       "      <td>1.0</td>\n",
       "      <td>165</td>\n",
       "    </tr>\n",
       "    <tr>\n",
       "      <th>4</th>\n",
       "      <td>2001827036</td>\n",
       "      <td>8904223819277</td>\n",
       "      <td>1.0</td>\n",
       "      <td>350</td>\n",
       "    </tr>\n",
       "  </tbody>\n",
       "</table>\n",
       "</div>"
      ],
      "text/plain": [
       "   ExternOrderNo            SKU  Order Qty  Weight (g)\n",
       "0     2001827036  8904223818706        1.0         127\n",
       "1     2001827036  8904223819093        1.0         150\n",
       "2     2001827036  8904223819109        1.0         100\n",
       "3     2001827036  8904223818430        1.0         165\n",
       "4     2001827036  8904223819277        1.0         350"
      ]
     },
     "execution_count": 26,
     "metadata": {},
     "output_type": "execute_result"
    }
   ],
   "source": [
    "#Merging order report nd SKU master based on SKU\n",
    "merged_data = pd.merge(order_report, sku_master, on = \"SKU\")\n",
    "merged_data.head()"
   ]
  },
  {
   "cell_type": "code",
   "execution_count": 27,
   "id": "cf7cbe32",
   "metadata": {},
   "outputs": [
    {
     "data": {
      "text/html": [
       "<div>\n",
       "<style scoped>\n",
       "    .dataframe tbody tr th:only-of-type {\n",
       "        vertical-align: middle;\n",
       "    }\n",
       "\n",
       "    .dataframe tbody tr th {\n",
       "        vertical-align: top;\n",
       "    }\n",
       "\n",
       "    .dataframe thead th {\n",
       "        text-align: right;\n",
       "    }\n",
       "</style>\n",
       "<table border=\"1\" class=\"dataframe\">\n",
       "  <thead>\n",
       "    <tr style=\"text-align: right;\">\n",
       "      <th></th>\n",
       "      <th>Order ID</th>\n",
       "      <th>SKU</th>\n",
       "      <th>Order Qty</th>\n",
       "      <th>Weight (g)</th>\n",
       "    </tr>\n",
       "  </thead>\n",
       "  <tbody>\n",
       "    <tr>\n",
       "      <th>0</th>\n",
       "      <td>2001827036</td>\n",
       "      <td>8904223818706</td>\n",
       "      <td>1.0</td>\n",
       "      <td>127</td>\n",
       "    </tr>\n",
       "    <tr>\n",
       "      <th>1</th>\n",
       "      <td>2001827036</td>\n",
       "      <td>8904223819093</td>\n",
       "      <td>1.0</td>\n",
       "      <td>150</td>\n",
       "    </tr>\n",
       "    <tr>\n",
       "      <th>2</th>\n",
       "      <td>2001827036</td>\n",
       "      <td>8904223819109</td>\n",
       "      <td>1.0</td>\n",
       "      <td>100</td>\n",
       "    </tr>\n",
       "    <tr>\n",
       "      <th>3</th>\n",
       "      <td>2001827036</td>\n",
       "      <td>8904223818430</td>\n",
       "      <td>1.0</td>\n",
       "      <td>165</td>\n",
       "    </tr>\n",
       "    <tr>\n",
       "      <th>4</th>\n",
       "      <td>2001827036</td>\n",
       "      <td>8904223819277</td>\n",
       "      <td>1.0</td>\n",
       "      <td>350</td>\n",
       "    </tr>\n",
       "  </tbody>\n",
       "</table>\n",
       "</div>"
      ],
      "text/plain": [
       "     Order ID            SKU  Order Qty  Weight (g)\n",
       "0  2001827036  8904223818706        1.0         127\n",
       "1  2001827036  8904223819093        1.0         150\n",
       "2  2001827036  8904223819109        1.0         100\n",
       "3  2001827036  8904223818430        1.0         165\n",
       "4  2001827036  8904223819277        1.0         350"
      ]
     },
     "execution_count": 27,
     "metadata": {},
     "output_type": "execute_result"
    }
   ],
   "source": [
    "# Rename the \"ExternOrderNo\" column to \"Order ID\" in the merged_data DataFrame\n",
    "merged_data = merged_data.rename(columns={'ExternOrderNo':'Order ID'})\n",
    "merged_data.head()"
   ]
  },
  {
   "cell_type": "code",
   "execution_count": 28,
   "id": "5b850a6d",
   "metadata": {},
   "outputs": [
    {
     "data": {
      "text/html": [
       "<div>\n",
       "<style scoped>\n",
       "    .dataframe tbody tr th:only-of-type {\n",
       "        vertical-align: middle;\n",
       "    }\n",
       "\n",
       "    .dataframe tbody tr th {\n",
       "        vertical-align: top;\n",
       "    }\n",
       "\n",
       "    .dataframe thead th {\n",
       "        text-align: right;\n",
       "    }\n",
       "</style>\n",
       "<table border=\"1\" class=\"dataframe\">\n",
       "  <thead>\n",
       "    <tr style=\"text-align: right;\">\n",
       "      <th></th>\n",
       "      <th>Order ID</th>\n",
       "      <th>Customer Pincode</th>\n",
       "      <th>Type of Shipment</th>\n",
       "      <th>Warehouse Pincode</th>\n",
       "      <th>Zone</th>\n",
       "    </tr>\n",
       "  </thead>\n",
       "  <tbody>\n",
       "    <tr>\n",
       "      <th>0</th>\n",
       "      <td>2001806232</td>\n",
       "      <td>507101</td>\n",
       "      <td>Forward charges</td>\n",
       "      <td>121003</td>\n",
       "      <td>d</td>\n",
       "    </tr>\n",
       "    <tr>\n",
       "      <th>1</th>\n",
       "      <td>2001806273</td>\n",
       "      <td>486886</td>\n",
       "      <td>Forward charges</td>\n",
       "      <td>121003</td>\n",
       "      <td>d</td>\n",
       "    </tr>\n",
       "    <tr>\n",
       "      <th>2</th>\n",
       "      <td>2001806408</td>\n",
       "      <td>532484</td>\n",
       "      <td>Forward charges</td>\n",
       "      <td>121003</td>\n",
       "      <td>d</td>\n",
       "    </tr>\n",
       "    <tr>\n",
       "      <th>3</th>\n",
       "      <td>2001806458</td>\n",
       "      <td>143001</td>\n",
       "      <td>Forward charges</td>\n",
       "      <td>121003</td>\n",
       "      <td>b</td>\n",
       "    </tr>\n",
       "    <tr>\n",
       "      <th>4</th>\n",
       "      <td>2001807012</td>\n",
       "      <td>515591</td>\n",
       "      <td>Forward charges</td>\n",
       "      <td>121003</td>\n",
       "      <td>d</td>\n",
       "    </tr>\n",
       "  </tbody>\n",
       "</table>\n",
       "</div>"
      ],
      "text/plain": [
       "     Order ID  Customer Pincode Type of Shipment  Warehouse Pincode Zone\n",
       "0  2001806232            507101  Forward charges             121003    d\n",
       "1  2001806273            486886  Forward charges             121003    d\n",
       "2  2001806408            532484  Forward charges             121003    d\n",
       "3  2001806458            143001  Forward charges             121003    b\n",
       "4  2001807012            515591  Forward charges             121003    d"
      ]
     },
     "execution_count": 28,
     "metadata": {},
     "output_type": "execute_result"
    }
   ],
   "source": [
    "abc_courier = pincode_mapping.drop_duplicates(subset=['Customer Pincode'])\n",
    "courier_abc = courier_invoice[['Order ID', 'Customer Pincode','Type of Shipment']]\n",
    "pincodes= courier_abc.merge(abc_courier,on='Customer Pincode')\n",
    "\n",
    "pincodes.head()"
   ]
  },
  {
   "cell_type": "code",
   "execution_count": 29,
   "id": "d5bd9ebd",
   "metadata": {},
   "outputs": [
    {
     "data": {
      "text/html": [
       "<div>\n",
       "<style scoped>\n",
       "    .dataframe tbody tr th:only-of-type {\n",
       "        vertical-align: middle;\n",
       "    }\n",
       "\n",
       "    .dataframe tbody tr th {\n",
       "        vertical-align: top;\n",
       "    }\n",
       "\n",
       "    .dataframe thead th {\n",
       "        text-align: right;\n",
       "    }\n",
       "</style>\n",
       "<table border=\"1\" class=\"dataframe\">\n",
       "  <thead>\n",
       "    <tr style=\"text-align: right;\">\n",
       "      <th></th>\n",
       "      <th>Order ID</th>\n",
       "      <th>Customer Pincode</th>\n",
       "      <th>Warehouse Pincode</th>\n",
       "    </tr>\n",
       "  </thead>\n",
       "  <tbody>\n",
       "    <tr>\n",
       "      <th>count</th>\n",
       "      <td>1.240000e+02</td>\n",
       "      <td>124.000000</td>\n",
       "      <td>124.0</td>\n",
       "    </tr>\n",
       "    <tr>\n",
       "      <th>mean</th>\n",
       "      <td>2.001811e+09</td>\n",
       "      <td>365488.072581</td>\n",
       "      <td>121003.0</td>\n",
       "    </tr>\n",
       "    <tr>\n",
       "      <th>std</th>\n",
       "      <td>5.167329e+03</td>\n",
       "      <td>152156.322130</td>\n",
       "      <td>0.0</td>\n",
       "    </tr>\n",
       "    <tr>\n",
       "      <th>min</th>\n",
       "      <td>2.001806e+09</td>\n",
       "      <td>140301.000000</td>\n",
       "      <td>121003.0</td>\n",
       "    </tr>\n",
       "    <tr>\n",
       "      <th>25%</th>\n",
       "      <td>2.001807e+09</td>\n",
       "      <td>302017.000000</td>\n",
       "      <td>121003.0</td>\n",
       "    </tr>\n",
       "    <tr>\n",
       "      <th>50%</th>\n",
       "      <td>2.001809e+09</td>\n",
       "      <td>321304.500000</td>\n",
       "      <td>121003.0</td>\n",
       "    </tr>\n",
       "    <tr>\n",
       "      <th>75%</th>\n",
       "      <td>2.001812e+09</td>\n",
       "      <td>405102.250000</td>\n",
       "      <td>121003.0</td>\n",
       "    </tr>\n",
       "    <tr>\n",
       "      <th>max</th>\n",
       "      <td>2.001827e+09</td>\n",
       "      <td>845438.000000</td>\n",
       "      <td>121003.0</td>\n",
       "    </tr>\n",
       "  </tbody>\n",
       "</table>\n",
       "</div>"
      ],
      "text/plain": [
       "           Order ID  Customer Pincode  Warehouse Pincode\n",
       "count  1.240000e+02        124.000000              124.0\n",
       "mean   2.001811e+09     365488.072581           121003.0\n",
       "std    5.167329e+03     152156.322130                0.0\n",
       "min    2.001806e+09     140301.000000           121003.0\n",
       "25%    2.001807e+09     302017.000000           121003.0\n",
       "50%    2.001809e+09     321304.500000           121003.0\n",
       "75%    2.001812e+09     405102.250000           121003.0\n",
       "max    2.001827e+09     845438.000000           121003.0"
      ]
     },
     "execution_count": 29,
     "metadata": {},
     "output_type": "execute_result"
    }
   ],
   "source": [
    "pincodes.describe()"
   ]
  },
  {
   "cell_type": "code",
   "execution_count": 32,
   "id": "1b3b0946",
   "metadata": {},
   "outputs": [
    {
     "data": {
      "text/html": [
       "<div>\n",
       "<style scoped>\n",
       "    .dataframe tbody tr th:only-of-type {\n",
       "        vertical-align: middle;\n",
       "    }\n",
       "\n",
       "    .dataframe tbody tr th {\n",
       "        vertical-align: top;\n",
       "    }\n",
       "\n",
       "    .dataframe thead th {\n",
       "        text-align: right;\n",
       "    }\n",
       "</style>\n",
       "<table border=\"1\" class=\"dataframe\">\n",
       "  <thead>\n",
       "    <tr style=\"text-align: right;\">\n",
       "      <th></th>\n",
       "      <th>Order ID</th>\n",
       "      <th>SKU</th>\n",
       "      <th>Order Qty</th>\n",
       "      <th>Weight (g)</th>\n",
       "      <th>Customer Pincode</th>\n",
       "      <th>Type of Shipment</th>\n",
       "      <th>Warehouse Pincode</th>\n",
       "      <th>Zone</th>\n",
       "    </tr>\n",
       "  </thead>\n",
       "  <tbody>\n",
       "    <tr>\n",
       "      <th>0</th>\n",
       "      <td>2001827036</td>\n",
       "      <td>8904223818706</td>\n",
       "      <td>1.0</td>\n",
       "      <td>127</td>\n",
       "      <td>173213</td>\n",
       "      <td>Forward charges</td>\n",
       "      <td>121003</td>\n",
       "      <td>e</td>\n",
       "    </tr>\n",
       "    <tr>\n",
       "      <th>1</th>\n",
       "      <td>2001827036</td>\n",
       "      <td>8904223819093</td>\n",
       "      <td>1.0</td>\n",
       "      <td>150</td>\n",
       "      <td>173213</td>\n",
       "      <td>Forward charges</td>\n",
       "      <td>121003</td>\n",
       "      <td>e</td>\n",
       "    </tr>\n",
       "    <tr>\n",
       "      <th>2</th>\n",
       "      <td>2001827036</td>\n",
       "      <td>8904223819109</td>\n",
       "      <td>1.0</td>\n",
       "      <td>100</td>\n",
       "      <td>173213</td>\n",
       "      <td>Forward charges</td>\n",
       "      <td>121003</td>\n",
       "      <td>e</td>\n",
       "    </tr>\n",
       "    <tr>\n",
       "      <th>3</th>\n",
       "      <td>2001827036</td>\n",
       "      <td>8904223818430</td>\n",
       "      <td>1.0</td>\n",
       "      <td>165</td>\n",
       "      <td>173213</td>\n",
       "      <td>Forward charges</td>\n",
       "      <td>121003</td>\n",
       "      <td>e</td>\n",
       "    </tr>\n",
       "    <tr>\n",
       "      <th>4</th>\n",
       "      <td>2001827036</td>\n",
       "      <td>8904223819277</td>\n",
       "      <td>1.0</td>\n",
       "      <td>350</td>\n",
       "      <td>173213</td>\n",
       "      <td>Forward charges</td>\n",
       "      <td>121003</td>\n",
       "      <td>e</td>\n",
       "    </tr>\n",
       "  </tbody>\n",
       "</table>\n",
       "</div>"
      ],
      "text/plain": [
       "     Order ID            SKU  Order Qty  Weight (g)  Customer Pincode  \\\n",
       "0  2001827036  8904223818706        1.0         127            173213   \n",
       "1  2001827036  8904223819093        1.0         150            173213   \n",
       "2  2001827036  8904223819109        1.0         100            173213   \n",
       "3  2001827036  8904223818430        1.0         165            173213   \n",
       "4  2001827036  8904223819277        1.0         350            173213   \n",
       "\n",
       "  Type of Shipment  Warehouse Pincode Zone  \n",
       "0  Forward charges             121003    e  \n",
       "1  Forward charges             121003    e  \n",
       "2  Forward charges             121003    e  \n",
       "3  Forward charges             121003    e  \n",
       "4  Forward charges             121003    e  "
      ]
     },
     "execution_count": 32,
     "metadata": {},
     "output_type": "execute_result"
    }
   ],
   "source": [
    "# Merging pincodes with the main dataframe.\n",
    "merged2 = merged_data.merge(pincodes, on = 'Order ID')\n",
    "merged2.head()"
   ]
  },
  {
   "cell_type": "code",
   "execution_count": 33,
   "id": "d58663a5",
   "metadata": {},
   "outputs": [],
   "source": [
    "#calculate the weight in kilograms by dividing the ‘Weight (g)’ column in the ‘merged2’ DataFrame by 1000:\n",
    "merged2['Weight (Kgs)'] = merged2['Weight (g)'] / 1000"
   ]
  },
  {
   "cell_type": "code",
   "execution_count": 34,
   "id": "3775f877",
   "metadata": {},
   "outputs": [],
   "source": [
    "def weight_slab(weight):\n",
    "    i = round(weight % 1, 1)\n",
    "    if i == 0.0:\n",
    "        return weight\n",
    "    elif i > 0.5:\n",
    "        return int(weight) + 1.0\n",
    "    else:\n",
    "        return int(weight) + 0.5\n",
    "\n",
    "merged2['Weight Slab (KG)'] = merged2['Weight (Kgs)'].apply(weight_slab)\n",
    "courier_invoice['Weight Slab Charged by Courier Company']=(courier_invoice['Charged Weight']).apply(weight_slab)"
   ]
  },
  {
   "cell_type": "code",
   "execution_count": 35,
   "id": "7e161833",
   "metadata": {},
   "outputs": [],
   "source": [
    "#rename the columns to prepare the desired dataframe:\n",
    "\n",
    "courier_invoice = courier_invoice.rename(columns={'Zone': 'Delivery Zone Charged by Courier Company'})\n",
    "merged2 = merged2.rename(columns={'Zone': 'Delivery Zone As Per ABC'})\n",
    "merged2 = merged2.rename(columns={'Weight Slab (KG)': 'Weight Slab As Per ABC'})"
   ]
  },
  {
   "cell_type": "markdown",
   "id": "87817ada",
   "metadata": {},
   "source": [
    "- In this code, we loop through each row of the ‘merged2’ DataFrame to calculate the expected charges based on ABC’s tariffs. We retrieve the necessary rates and parameters, such as fixed charges and surcharges per weight tier for forward and RTO shipments, based on the delivery area.\n",
    "- We then determine the weight of the slab for each row. If the shipment type is ‘Forward Charges’, we calculate the additional weight beyond the basic weight slab (0.5 KG) and apply the corresponding additional charges. For “Forward and RTO Charges” shipments, we consider additional charges for term and RTO components.\n",
    "- Finally, we store the calculated expected charges in the “Expected charges according to ABC” column of the “merged2” DataFrame. This allows us to compare the expected charges with the charges billed to analyze the accuracy of the courier company’s charges."
   ]
  },
  {
   "cell_type": "code",
   "execution_count": null,
   "id": "472c1998",
   "metadata": {},
   "outputs": [
    {
     "data": {
      "text/html": [
       "<div>\n",
       "<style scoped>\n",
       "    .dataframe tbody tr th:only-of-type {\n",
       "        vertical-align: middle;\n",
       "    }\n",
       "\n",
       "    .dataframe tbody tr th {\n",
       "        vertical-align: top;\n",
       "    }\n",
       "\n",
       "    .dataframe thead th {\n",
       "        text-align: right;\n",
       "    }\n",
       "</style>\n",
       "<table border=\"1\" class=\"dataframe\">\n",
       "  <thead>\n",
       "    <tr style=\"text-align: right;\">\n",
       "      <th></th>\n",
       "      <th>Order ID</th>\n",
       "      <th>SKU</th>\n",
       "      <th>Order Qty</th>\n",
       "      <th>Weight (g)</th>\n",
       "      <th>Customer Pincode</th>\n",
       "      <th>Type of Shipment</th>\n",
       "      <th>Warehouse Pincode</th>\n",
       "      <th>Delivery Zone As Per ABC</th>\n",
       "      <th>Weight (Kgs)</th>\n",
       "      <th>Weight Slab As Per ABC</th>\n",
       "      <th>Expected Charge as per ABC</th>\n",
       "    </tr>\n",
       "  </thead>\n",
       "  <tbody>\n",
       "    <tr>\n",
       "      <th>0</th>\n",
       "      <td>2001827036</td>\n",
       "      <td>8904223818706</td>\n",
       "      <td>1.0</td>\n",
       "      <td>127</td>\n",
       "      <td>173213</td>\n",
       "      <td>Forward charges</td>\n",
       "      <td>121003</td>\n",
       "      <td>e</td>\n",
       "      <td>0.127</td>\n",
       "      <td>0.5</td>\n",
       "      <td>56.6</td>\n",
       "    </tr>\n",
       "    <tr>\n",
       "      <th>1</th>\n",
       "      <td>2001827036</td>\n",
       "      <td>8904223819093</td>\n",
       "      <td>1.0</td>\n",
       "      <td>150</td>\n",
       "      <td>173213</td>\n",
       "      <td>Forward charges</td>\n",
       "      <td>121003</td>\n",
       "      <td>e</td>\n",
       "      <td>0.150</td>\n",
       "      <td>0.5</td>\n",
       "      <td>56.6</td>\n",
       "    </tr>\n",
       "    <tr>\n",
       "      <th>2</th>\n",
       "      <td>2001827036</td>\n",
       "      <td>8904223819109</td>\n",
       "      <td>1.0</td>\n",
       "      <td>100</td>\n",
       "      <td>173213</td>\n",
       "      <td>Forward charges</td>\n",
       "      <td>121003</td>\n",
       "      <td>e</td>\n",
       "      <td>0.100</td>\n",
       "      <td>0.5</td>\n",
       "      <td>56.6</td>\n",
       "    </tr>\n",
       "    <tr>\n",
       "      <th>3</th>\n",
       "      <td>2001827036</td>\n",
       "      <td>8904223818430</td>\n",
       "      <td>1.0</td>\n",
       "      <td>165</td>\n",
       "      <td>173213</td>\n",
       "      <td>Forward charges</td>\n",
       "      <td>121003</td>\n",
       "      <td>e</td>\n",
       "      <td>0.165</td>\n",
       "      <td>0.5</td>\n",
       "      <td>56.6</td>\n",
       "    </tr>\n",
       "    <tr>\n",
       "      <th>4</th>\n",
       "      <td>2001827036</td>\n",
       "      <td>8904223819277</td>\n",
       "      <td>1.0</td>\n",
       "      <td>350</td>\n",
       "      <td>173213</td>\n",
       "      <td>Forward charges</td>\n",
       "      <td>121003</td>\n",
       "      <td>e</td>\n",
       "      <td>0.350</td>\n",
       "      <td>0.5</td>\n",
       "      <td>56.6</td>\n",
       "    </tr>\n",
       "  </tbody>\n",
       "</table>\n",
       "</div>"
      ],
      "text/plain": [
       "     Order ID            SKU  Order Qty  Weight (g)  Customer Pincode  \\\n",
       "0  2001827036  8904223818706        1.0         127            173213   \n",
       "1  2001827036  8904223819093        1.0         150            173213   \n",
       "2  2001827036  8904223819109        1.0         100            173213   \n",
       "3  2001827036  8904223818430        1.0         165            173213   \n",
       "4  2001827036  8904223819277        1.0         350            173213   \n",
       "\n",
       "  Type of Shipment  Warehouse Pincode Delivery Zone As Per ABC  Weight (Kgs)  \\\n",
       "0  Forward charges             121003                        e         0.127   \n",
       "1  Forward charges             121003                        e         0.150   \n",
       "2  Forward charges             121003                        e         0.100   \n",
       "3  Forward charges             121003                        e         0.165   \n",
       "4  Forward charges             121003                        e         0.350   \n",
       "\n",
       "   Weight Slab As Per ABC  Expected Charge as per ABC  \n",
       "0                     0.5                        56.6  \n",
       "1                     0.5                        56.6  \n",
       "2                     0.5                        56.6  \n",
       "3                     0.5                        56.6  \n",
       "4                     0.5                        56.6  "
      ]
     },
     "execution_count": 36,
     "metadata": {},
     "output_type": "execute_result"
    }
   ],
   "source": [
    "# Expected charges Calculation  \n",
    "\n",
    "total_expected_charge = []\n",
    "\n",
    "for _, row in merged2.iterrows():\n",
    "    fwd_category = 'fwd_' + row['Delivery Zone As Per ABC']\n",
    "    fwd_fixed = courier_company_rates.at[0, fwd_category + '_fixed']\n",
    "    fwd_additional = courier_company_rates.at[0, fwd_category + '_additional']\n",
    "    rto_category = 'rto_' + row['Delivery Zone As Per ABC']\n",
    "    rto_fixed = courier_company_rates.at[0, rto_category + '_fixed']\n",
    "    rto_additional = courier_company_rates.at[0, rto_category + '_additional']\n",
    "\n",
    "    weight_slab = row['Weight Slab As Per ABC']\n",
    "\n",
    "    if row['Type of Shipment'] == 'Forward charges':\n",
    "        additional_weight = max(0, (weight_slab - 0.5) / 0.5)\n",
    "        total_expected_charge.append(fwd_fixed + additional_weight * fwd_additional)\n",
    "    elif row['Type of Shipment'] == 'Forward and RTO charges':\n",
    "        additional_weight = max(0, (weight_slab - 0.5) / 0.5)\n",
    "        total_expected_charge.append(fwd_fixed + additional_weight * (fwd_additional + rto_additional))\n",
    "    else:\n",
    "        total_expected_charge.append(0)\n",
    "\n",
    "merged2['Expected Charge as per ABC'] = total_expected_charge\n",
    "merged2.head()"
   ]
  },
  {
   "cell_type": "code",
   "execution_count": 37,
   "id": "fb9fd660",
   "metadata": {},
   "outputs": [
    {
     "name": "stdout",
     "output_type": "stream",
     "text": [
      "     Order ID            SKU  Order Qty  Weight (g)  Customer Pincode_x  \\\n",
      "0  2001827036  8904223818706        1.0         127              173213   \n",
      "1  2001827036  8904223819093        1.0         150              173213   \n",
      "2  2001827036  8904223819109        1.0         100              173213   \n",
      "3  2001827036  8904223818430        1.0         165              173213   \n",
      "4  2001827036  8904223819277        1.0         350              173213   \n",
      "\n",
      "  Type of Shipment_x  Warehouse Pincode_x Delivery Zone As Per ABC  \\\n",
      "0    Forward charges               121003                        e   \n",
      "1    Forward charges               121003                        e   \n",
      "2    Forward charges               121003                        e   \n",
      "3    Forward charges               121003                        e   \n",
      "4    Forward charges               121003                        e   \n",
      "\n",
      "   Weight (Kgs)  Weight Slab As Per ABC  Expected Charge as per ABC  \\\n",
      "0         0.127                     0.5                        56.6   \n",
      "1         0.150                     0.5                        56.6   \n",
      "2         0.100                     0.5                        56.6   \n",
      "3         0.165                     0.5                        56.6   \n",
      "4         0.350                     0.5                        56.6   \n",
      "\n",
      "        AWB Code  Charged Weight  Warehouse Pincode_y  Customer Pincode_y  \\\n",
      "0  1091122418320             1.6               121003              173213   \n",
      "1  1091122418320             1.6               121003              173213   \n",
      "2  1091122418320             1.6               121003              173213   \n",
      "3  1091122418320             1.6               121003              173213   \n",
      "4  1091122418320             1.6               121003              173213   \n",
      "\n",
      "  Delivery Zone Charged by Courier Company Type of Shipment_y  \\\n",
      "0                                        b    Forward charges   \n",
      "1                                        b    Forward charges   \n",
      "2                                        b    Forward charges   \n",
      "3                                        b    Forward charges   \n",
      "4                                        b    Forward charges   \n",
      "\n",
      "   Billing Amount (Rs.)  Weight Slab Charged by Courier Company  \n",
      "0                 117.9                                     2.0  \n",
      "1                 117.9                                     2.0  \n",
      "2                 117.9                                     2.0  \n",
      "3                 117.9                                     2.0  \n",
      "4                 117.9                                     2.0  \n"
     ]
    }
   ],
   "source": [
    "merged_output = merged2.merge(courier_invoice, on='Order ID')\n",
    "print(merged_output.head())"
   ]
  },
  {
   "cell_type": "code",
   "execution_count": 38,
   "id": "6b323a6d",
   "metadata": {},
   "outputs": [
    {
     "name": "stdout",
     "output_type": "stream",
     "text": [
      "     Order ID  Difference (Rs.)  Expected Charge as per ABC\n",
      "0  2001827036              61.3                        56.6\n",
      "1  2001827036              61.3                        56.6\n",
      "2  2001827036              61.3                        56.6\n",
      "3  2001827036              61.3                        56.6\n",
      "4  2001827036              61.3                        56.6\n"
     ]
    }
   ],
   "source": [
    "#Calculate the differences in charges and expected charges for each order:\n",
    "\n",
    "df_diff = merged_output\n",
    "df_diff['Difference (Rs.)'] = df_diff['Billing Amount (Rs.)'] - df_diff['Expected Charge as per ABC']\n",
    "\n",
    "df_new = df_diff[['Order ID', 'Difference (Rs.)', 'Expected Charge as per ABC']]\n",
    "\n",
    "print(df_new.head())\n"
   ]
  },
  {
   "cell_type": "markdown",
   "id": "a1e6fbd6",
   "metadata": {},
   "source": [
    "Summarizing the accuracy of B2B courier charges based on the charged prices and expected prices:"
   ]
  },
  {
   "cell_type": "code",
   "execution_count": 39,
   "id": "546eb42f",
   "metadata": {},
   "outputs": [
    {
     "name": "stdout",
     "output_type": "stream",
     "text": [
      "                                         Description  Count  Amount (Rs.)\n",
      "0  Total Orders where ABC has been correctly charged     12         507.6\n",
      "1        Total Orders where ABC has been overcharged    382       33750.5\n",
      "2       Total Orders where ABC has been undercharged      7        -165.2\n"
     ]
    }
   ],
   "source": [
    "# Calculate the total orders in each category\n",
    "total_correctly_charged = len(df_new[df_new['Difference (Rs.)'] == 0])\n",
    "total_overcharged = len(df_new[df_new['Difference (Rs.)'] > 0])\n",
    "total_undercharged = len(df_new[df_new['Difference (Rs.)'] < 0])\n",
    "\n",
    "# Calculate the total amount in each category\n",
    "amount_overcharged = abs(df_new[df_new['Difference (Rs.)'] > 0]['Difference (Rs.)'].sum())\n",
    "amount_undercharged = df_new[df_new['Difference (Rs.)'] < 0]['Difference (Rs.)'].sum()\n",
    "amount_correctly_charged = df_new[df_new['Difference (Rs.)'] == 0]['Expected Charge as per ABC'].sum()\n",
    "\n",
    "# Create a new DataFrame for the summary\n",
    "summary_data = {'Description': ['Total Orders where ABC has been correctly charged',\n",
    "                                'Total Orders where ABC has been overcharged',\n",
    "                                'Total Orders where ABC has been undercharged'],\n",
    "                'Count': [total_correctly_charged, total_overcharged, total_undercharged],\n",
    "                'Amount (Rs.)': [amount_correctly_charged, amount_overcharged, amount_undercharged]}\n",
    "\n",
    "df_summary = pd.DataFrame(summary_data)\n",
    "\n",
    "print(df_summary)"
   ]
  },
  {
   "cell_type": "code",
   "execution_count": 40,
   "id": "c8a33262",
   "metadata": {},
   "outputs": [
    {
     "data": {
      "application/vnd.plotly.v1+json": {
       "config": {
        "plotlyServerURL": "https://plot.ly"
       },
       "data": [
        {
         "hole": 0.4,
         "labels": [
          "Total Orders where ABC has been correctly charged",
          "Total Orders where ABC has been overcharged",
          "Total Orders where ABC has been undercharged"
         ],
         "textinfo": "label+percent",
         "type": "pie",
         "values": [
          12,
          382,
          7
         ]
        }
       ],
       "layout": {
        "template": {
         "data": {
          "bar": [
           {
            "error_x": {
             "color": "#2a3f5f"
            },
            "error_y": {
             "color": "#2a3f5f"
            },
            "marker": {
             "line": {
              "color": "#E5ECF6",
              "width": 0.5
             },
             "pattern": {
              "fillmode": "overlay",
              "size": 10,
              "solidity": 0.2
             }
            },
            "type": "bar"
           }
          ],
          "barpolar": [
           {
            "marker": {
             "line": {
              "color": "#E5ECF6",
              "width": 0.5
             },
             "pattern": {
              "fillmode": "overlay",
              "size": 10,
              "solidity": 0.2
             }
            },
            "type": "barpolar"
           }
          ],
          "carpet": [
           {
            "aaxis": {
             "endlinecolor": "#2a3f5f",
             "gridcolor": "white",
             "linecolor": "white",
             "minorgridcolor": "white",
             "startlinecolor": "#2a3f5f"
            },
            "baxis": {
             "endlinecolor": "#2a3f5f",
             "gridcolor": "white",
             "linecolor": "white",
             "minorgridcolor": "white",
             "startlinecolor": "#2a3f5f"
            },
            "type": "carpet"
           }
          ],
          "choropleth": [
           {
            "colorbar": {
             "outlinewidth": 0,
             "ticks": ""
            },
            "type": "choropleth"
           }
          ],
          "contour": [
           {
            "colorbar": {
             "outlinewidth": 0,
             "ticks": ""
            },
            "colorscale": [
             [
              0,
              "#0d0887"
             ],
             [
              0.1111111111111111,
              "#46039f"
             ],
             [
              0.2222222222222222,
              "#7201a8"
             ],
             [
              0.3333333333333333,
              "#9c179e"
             ],
             [
              0.4444444444444444,
              "#bd3786"
             ],
             [
              0.5555555555555556,
              "#d8576b"
             ],
             [
              0.6666666666666666,
              "#ed7953"
             ],
             [
              0.7777777777777778,
              "#fb9f3a"
             ],
             [
              0.8888888888888888,
              "#fdca26"
             ],
             [
              1,
              "#f0f921"
             ]
            ],
            "type": "contour"
           }
          ],
          "contourcarpet": [
           {
            "colorbar": {
             "outlinewidth": 0,
             "ticks": ""
            },
            "type": "contourcarpet"
           }
          ],
          "heatmap": [
           {
            "colorbar": {
             "outlinewidth": 0,
             "ticks": ""
            },
            "colorscale": [
             [
              0,
              "#0d0887"
             ],
             [
              0.1111111111111111,
              "#46039f"
             ],
             [
              0.2222222222222222,
              "#7201a8"
             ],
             [
              0.3333333333333333,
              "#9c179e"
             ],
             [
              0.4444444444444444,
              "#bd3786"
             ],
             [
              0.5555555555555556,
              "#d8576b"
             ],
             [
              0.6666666666666666,
              "#ed7953"
             ],
             [
              0.7777777777777778,
              "#fb9f3a"
             ],
             [
              0.8888888888888888,
              "#fdca26"
             ],
             [
              1,
              "#f0f921"
             ]
            ],
            "type": "heatmap"
           }
          ],
          "heatmapgl": [
           {
            "colorbar": {
             "outlinewidth": 0,
             "ticks": ""
            },
            "colorscale": [
             [
              0,
              "#0d0887"
             ],
             [
              0.1111111111111111,
              "#46039f"
             ],
             [
              0.2222222222222222,
              "#7201a8"
             ],
             [
              0.3333333333333333,
              "#9c179e"
             ],
             [
              0.4444444444444444,
              "#bd3786"
             ],
             [
              0.5555555555555556,
              "#d8576b"
             ],
             [
              0.6666666666666666,
              "#ed7953"
             ],
             [
              0.7777777777777778,
              "#fb9f3a"
             ],
             [
              0.8888888888888888,
              "#fdca26"
             ],
             [
              1,
              "#f0f921"
             ]
            ],
            "type": "heatmapgl"
           }
          ],
          "histogram": [
           {
            "marker": {
             "pattern": {
              "fillmode": "overlay",
              "size": 10,
              "solidity": 0.2
             }
            },
            "type": "histogram"
           }
          ],
          "histogram2d": [
           {
            "colorbar": {
             "outlinewidth": 0,
             "ticks": ""
            },
            "colorscale": [
             [
              0,
              "#0d0887"
             ],
             [
              0.1111111111111111,
              "#46039f"
             ],
             [
              0.2222222222222222,
              "#7201a8"
             ],
             [
              0.3333333333333333,
              "#9c179e"
             ],
             [
              0.4444444444444444,
              "#bd3786"
             ],
             [
              0.5555555555555556,
              "#d8576b"
             ],
             [
              0.6666666666666666,
              "#ed7953"
             ],
             [
              0.7777777777777778,
              "#fb9f3a"
             ],
             [
              0.8888888888888888,
              "#fdca26"
             ],
             [
              1,
              "#f0f921"
             ]
            ],
            "type": "histogram2d"
           }
          ],
          "histogram2dcontour": [
           {
            "colorbar": {
             "outlinewidth": 0,
             "ticks": ""
            },
            "colorscale": [
             [
              0,
              "#0d0887"
             ],
             [
              0.1111111111111111,
              "#46039f"
             ],
             [
              0.2222222222222222,
              "#7201a8"
             ],
             [
              0.3333333333333333,
              "#9c179e"
             ],
             [
              0.4444444444444444,
              "#bd3786"
             ],
             [
              0.5555555555555556,
              "#d8576b"
             ],
             [
              0.6666666666666666,
              "#ed7953"
             ],
             [
              0.7777777777777778,
              "#fb9f3a"
             ],
             [
              0.8888888888888888,
              "#fdca26"
             ],
             [
              1,
              "#f0f921"
             ]
            ],
            "type": "histogram2dcontour"
           }
          ],
          "mesh3d": [
           {
            "colorbar": {
             "outlinewidth": 0,
             "ticks": ""
            },
            "type": "mesh3d"
           }
          ],
          "parcoords": [
           {
            "line": {
             "colorbar": {
              "outlinewidth": 0,
              "ticks": ""
             }
            },
            "type": "parcoords"
           }
          ],
          "pie": [
           {
            "automargin": true,
            "type": "pie"
           }
          ],
          "scatter": [
           {
            "fillpattern": {
             "fillmode": "overlay",
             "size": 10,
             "solidity": 0.2
            },
            "type": "scatter"
           }
          ],
          "scatter3d": [
           {
            "line": {
             "colorbar": {
              "outlinewidth": 0,
              "ticks": ""
             }
            },
            "marker": {
             "colorbar": {
              "outlinewidth": 0,
              "ticks": ""
             }
            },
            "type": "scatter3d"
           }
          ],
          "scattercarpet": [
           {
            "marker": {
             "colorbar": {
              "outlinewidth": 0,
              "ticks": ""
             }
            },
            "type": "scattercarpet"
           }
          ],
          "scattergeo": [
           {
            "marker": {
             "colorbar": {
              "outlinewidth": 0,
              "ticks": ""
             }
            },
            "type": "scattergeo"
           }
          ],
          "scattergl": [
           {
            "marker": {
             "colorbar": {
              "outlinewidth": 0,
              "ticks": ""
             }
            },
            "type": "scattergl"
           }
          ],
          "scattermapbox": [
           {
            "marker": {
             "colorbar": {
              "outlinewidth": 0,
              "ticks": ""
             }
            },
            "type": "scattermapbox"
           }
          ],
          "scatterpolar": [
           {
            "marker": {
             "colorbar": {
              "outlinewidth": 0,
              "ticks": ""
             }
            },
            "type": "scatterpolar"
           }
          ],
          "scatterpolargl": [
           {
            "marker": {
             "colorbar": {
              "outlinewidth": 0,
              "ticks": ""
             }
            },
            "type": "scatterpolargl"
           }
          ],
          "scatterternary": [
           {
            "marker": {
             "colorbar": {
              "outlinewidth": 0,
              "ticks": ""
             }
            },
            "type": "scatterternary"
           }
          ],
          "surface": [
           {
            "colorbar": {
             "outlinewidth": 0,
             "ticks": ""
            },
            "colorscale": [
             [
              0,
              "#0d0887"
             ],
             [
              0.1111111111111111,
              "#46039f"
             ],
             [
              0.2222222222222222,
              "#7201a8"
             ],
             [
              0.3333333333333333,
              "#9c179e"
             ],
             [
              0.4444444444444444,
              "#bd3786"
             ],
             [
              0.5555555555555556,
              "#d8576b"
             ],
             [
              0.6666666666666666,
              "#ed7953"
             ],
             [
              0.7777777777777778,
              "#fb9f3a"
             ],
             [
              0.8888888888888888,
              "#fdca26"
             ],
             [
              1,
              "#f0f921"
             ]
            ],
            "type": "surface"
           }
          ],
          "table": [
           {
            "cells": {
             "fill": {
              "color": "#EBF0F8"
             },
             "line": {
              "color": "white"
             }
            },
            "header": {
             "fill": {
              "color": "#C8D4E3"
             },
             "line": {
              "color": "white"
             }
            },
            "type": "table"
           }
          ]
         },
         "layout": {
          "annotationdefaults": {
           "arrowcolor": "#2a3f5f",
           "arrowhead": 0,
           "arrowwidth": 1
          },
          "autotypenumbers": "strict",
          "coloraxis": {
           "colorbar": {
            "outlinewidth": 0,
            "ticks": ""
           }
          },
          "colorscale": {
           "diverging": [
            [
             0,
             "#8e0152"
            ],
            [
             0.1,
             "#c51b7d"
            ],
            [
             0.2,
             "#de77ae"
            ],
            [
             0.3,
             "#f1b6da"
            ],
            [
             0.4,
             "#fde0ef"
            ],
            [
             0.5,
             "#f7f7f7"
            ],
            [
             0.6,
             "#e6f5d0"
            ],
            [
             0.7,
             "#b8e186"
            ],
            [
             0.8,
             "#7fbc41"
            ],
            [
             0.9,
             "#4d9221"
            ],
            [
             1,
             "#276419"
            ]
           ],
           "sequential": [
            [
             0,
             "#0d0887"
            ],
            [
             0.1111111111111111,
             "#46039f"
            ],
            [
             0.2222222222222222,
             "#7201a8"
            ],
            [
             0.3333333333333333,
             "#9c179e"
            ],
            [
             0.4444444444444444,
             "#bd3786"
            ],
            [
             0.5555555555555556,
             "#d8576b"
            ],
            [
             0.6666666666666666,
             "#ed7953"
            ],
            [
             0.7777777777777778,
             "#fb9f3a"
            ],
            [
             0.8888888888888888,
             "#fdca26"
            ],
            [
             1,
             "#f0f921"
            ]
           ],
           "sequentialminus": [
            [
             0,
             "#0d0887"
            ],
            [
             0.1111111111111111,
             "#46039f"
            ],
            [
             0.2222222222222222,
             "#7201a8"
            ],
            [
             0.3333333333333333,
             "#9c179e"
            ],
            [
             0.4444444444444444,
             "#bd3786"
            ],
            [
             0.5555555555555556,
             "#d8576b"
            ],
            [
             0.6666666666666666,
             "#ed7953"
            ],
            [
             0.7777777777777778,
             "#fb9f3a"
            ],
            [
             0.8888888888888888,
             "#fdca26"
            ],
            [
             1,
             "#f0f921"
            ]
           ]
          },
          "colorway": [
           "#636efa",
           "#EF553B",
           "#00cc96",
           "#ab63fa",
           "#FFA15A",
           "#19d3f3",
           "#FF6692",
           "#B6E880",
           "#FF97FF",
           "#FECB52"
          ],
          "font": {
           "color": "#2a3f5f"
          },
          "geo": {
           "bgcolor": "white",
           "lakecolor": "white",
           "landcolor": "#E5ECF6",
           "showlakes": true,
           "showland": true,
           "subunitcolor": "white"
          },
          "hoverlabel": {
           "align": "left"
          },
          "hovermode": "closest",
          "mapbox": {
           "style": "light"
          },
          "paper_bgcolor": "white",
          "plot_bgcolor": "#E5ECF6",
          "polar": {
           "angularaxis": {
            "gridcolor": "white",
            "linecolor": "white",
            "ticks": ""
           },
           "bgcolor": "#E5ECF6",
           "radialaxis": {
            "gridcolor": "white",
            "linecolor": "white",
            "ticks": ""
           }
          },
          "scene": {
           "xaxis": {
            "backgroundcolor": "#E5ECF6",
            "gridcolor": "white",
            "gridwidth": 2,
            "linecolor": "white",
            "showbackground": true,
            "ticks": "",
            "zerolinecolor": "white"
           },
           "yaxis": {
            "backgroundcolor": "#E5ECF6",
            "gridcolor": "white",
            "gridwidth": 2,
            "linecolor": "white",
            "showbackground": true,
            "ticks": "",
            "zerolinecolor": "white"
           },
           "zaxis": {
            "backgroundcolor": "#E5ECF6",
            "gridcolor": "white",
            "gridwidth": 2,
            "linecolor": "white",
            "showbackground": true,
            "ticks": "",
            "zerolinecolor": "white"
           }
          },
          "shapedefaults": {
           "line": {
            "color": "#2a3f5f"
           }
          },
          "ternary": {
           "aaxis": {
            "gridcolor": "white",
            "linecolor": "white",
            "ticks": ""
           },
           "baxis": {
            "gridcolor": "white",
            "linecolor": "white",
            "ticks": ""
           },
           "bgcolor": "#E5ECF6",
           "caxis": {
            "gridcolor": "white",
            "linecolor": "white",
            "ticks": ""
           }
          },
          "title": {
           "x": 0.05
          },
          "xaxis": {
           "automargin": true,
           "gridcolor": "white",
           "linecolor": "white",
           "ticks": "",
           "title": {
            "standoff": 15
           },
           "zerolinecolor": "white",
           "zerolinewidth": 2
          },
          "yaxis": {
           "automargin": true,
           "gridcolor": "white",
           "linecolor": "white",
           "ticks": "",
           "title": {
            "standoff": 15
           },
           "zerolinecolor": "white",
           "zerolinewidth": 2
          }
         }
        },
        "title": {
         "text": "Proportion"
        }
       }
      }
     },
     "metadata": {},
     "output_type": "display_data"
    }
   ],
   "source": [
    "import plotly.graph_objects as go\n",
    "fig = go.Figure(data=go.Pie(labels=df_summary['Description'],\n",
    "                            values=df_summary['Count'],\n",
    "                            textinfo='label+percent',\n",
    "                            hole=0.4))\n",
    "fig.update_layout(title='Proportion')\n",
    "\n",
    "fig.show()"
   ]
  },
  {
   "cell_type": "markdown",
   "id": "8e69e216",
   "metadata": {},
   "source": [
    "\n",
    "Zone vs. Weight Slab Heatmap\n",
    "Show how overcharges vary across combinations of delivery zones and weight slabs."
   ]
  },
  {
   "cell_type": "code",
   "execution_count": 46,
   "id": "af3366a1",
   "metadata": {},
   "outputs": [
    {
     "data": {
      "image/png": "[encoded data removed]",
      "text/plain": [
       "<Figure size 1000x600 with 2 Axes>"
      ]
     },
     "metadata": {},
     "output_type": "display_data"
    }
   ],
   "source": [
    "import seaborn as sns\n",
    "import matplotlib.pyplot as plt\n",
    "\n",
    "pivot_table = merged_output.pivot_table(\n",
    "    index='Delivery Zone Charged by Courier Company',\n",
    "    columns='Weight Slab As Per ABC',\n",
    "    values='Difference (Rs.)',\n",
    "    aggfunc='mean'\n",
    ")\n",
    "\n",
    "plt.figure(figsize=(10,6))\n",
    "sns.heatmap(pivot_table, annot=True, cmap='coolwarm')\n",
    "plt.title(\"Average Overcharge by Zone and Weight Slab\")\n",
    "plt.ylabel(\"Delivery Zone\")\n",
    "plt.xlabel(\"Weight Slab (KG)\")\n",
    "plt.tight_layout()\n",
    "plt.show()\n"
   ]
  },
  {
   "cell_type": "markdown",
   "id": "6d09cad5",
   "metadata": {},
   "source": [
    "What you're looking at:\n",
    "This heatmap shows the average overcharge (in Rupees) across:\n",
    "\n",
    "Zones on the y-axis (e.g. zone b, d, e)\n",
    "\n",
    "Weight slabs on the x-axis (e.g. 0.01 KG, 0.5 KG, 1.0 KG)\n",
    "\n",
    "Each number is the average difference between what you were charged vs. what you expected for that zone+weight combo.\n",
    "\n",
    "For example:\n",
    "\n",
    "Zone d, 0.01 KG shows a value around 300, which means on average, shipments in that category were overcharged by ₹300 per order — that's huge.\n",
    "\n",
    "Zone b, 0.5 KG shows 50, so overcharged by ₹50 on average.\n",
    "\n",
    "Empty boxes just mean there was no data for that combination (no orders with that zone and weight)."
   ]
  },
  {
   "cell_type": "markdown",
   "id": "8f1c2edd",
   "metadata": {},
   "source": [
    "It shows you where the worst overcharging is happening — you could use this to:\n",
    "\n",
    "Negotiate with the courier over certain slabs or zones.\n",
    "\n",
    "Flag SKUs or orders that frequently land in high-loss brackets.\n",
    "\n",
    "Train a fraud or billing-error detection model."
   ]
  },
  {
   "cell_type": "code",
   "execution_count": 47,
   "id": "8b1f0b6d",
   "metadata": {},
   "outputs": [],
   "source": [
    "#Create a column that flags whether the charge was correct:\n",
    "\n",
    "merged_output['Charge Accuracy'] = merged_output['Difference (Rs.)'].apply(\n",
    "    lambda x: 'Accurate' if round(x, 2) == 0 else 'Inaccurate'\n",
    ")\n"
   ]
  },
  {
   "cell_type": "code",
   "execution_count": 48,
   "id": "4670c48d",
   "metadata": {},
   "outputs": [],
   "source": [
    "# . Group by zone and calculate the accuracy rate:\n",
    "\n",
    "zone_accuracy = merged_output.groupby('Delivery Zone Charged by Courier Company')['Charge Accuracy'].value_counts(normalize=True).unstack().fillna(0)\n",
    "zone_accuracy = zone_accuracy * 100  # convert to percentage\n"
   ]
  },
  {
   "cell_type": "code",
   "execution_count": 49,
   "id": "a9b843fd",
   "metadata": {},
   "outputs": [
    {
     "data": {
      "image/png": "[encoded data removed]",
      "text/plain": [
       "<Figure size 1000x600 with 1 Axes>"
      ]
     },
     "metadata": {},
     "output_type": "display_data"
    }
   ],
   "source": [
    "zone_accuracy.sort_values('Accurate', ascending=True).plot(\n",
    "    kind='barh', \n",
    "    stacked=True, \n",
    "    color=['tomato', 'seagreen'],\n",
    "    figsize=(10,6)\n",
    ")\n",
    "\n",
    "plt.title(\"Billing Accuracy Rate by Delivery Zone\")\n",
    "plt.xlabel(\"Percentage of Orders\")\n",
    "plt.ylabel(\"Delivery Zone\")\n",
    "plt.legend(title='Billing Status', loc='lower right')\n",
    "plt.tight_layout()\n",
    "plt.show()\n"
   ]
  },
  {
   "cell_type": "markdown",
   "id": "6735dae8",
   "metadata": {},
   "source": [
    "🧭 Key Insights\n",
    "Zone e stands out with near-perfect billing accuracy — nearly 100% of shipments were billed exactly as expected. This zone sets the benchmark.\n",
    "\n",
    "Zone d shows a small but noticeable slice of red (inaccurate billing). It's still largely accurate, but there's enough discrepancy to warrant a closer look at which weight slabs or SKUs are affected.\n",
    "\n",
    "Zone b has the worst accuracy among the three. The red portion of its bar is significantly larger — likely 10–15% of orders in this zone are inaccurately billed. That’s substantial enough to investigate whether:\n",
    "\n",
    "it's a courier billing issue,\n",
    "\n",
    "certain SKUs going to zone b are misweighed,\n",
    "\n",
    "or zone mapping is being misclassified in your pipeline.\n",
    "\n",
    "\n",
    "📈 Strategic Implications\n",
    "Audit deeper into Zone b. Use merged_output.loc[merged_output['Delivery Zone Charged by Courier Company'] == 'b'] to isolate and inspect.\n",
    "\n",
    "Replicate this chart by weight slab or even by SKU, so you can answer: > Are certain products consistently misbilled, regardless of zone?\n",
    "\n",
    "Add financial lens: Multiply inaccuracy counts by average overcharge to estimate potential ₹ losses per zone — powerful for stakeholder conversations."
   ]
  },
  {
   "cell_type": "code",
   "execution_count": 50,
   "id": "49f9b8ce",
   "metadata": {},
   "outputs": [],
   "source": [
    "zone_loss = merged_output[merged_output['Difference (Rs.)'] > 0].groupby('Delivery Zone Charged by Courier Company')['Difference (Rs.)'].sum().sort_values(ascending=False)\n"
   ]
  },
  {
   "cell_type": "code",
   "execution_count": 51,
   "id": "163c10fd",
   "metadata": {},
   "outputs": [
    {
     "data": {
      "image/png": "[encoded data removed]",
      "text/plain": [
       "<Figure size 800x500 with 1 Axes>"
      ]
     },
     "metadata": {},
     "output_type": "display_data"
    }
   ],
   "source": [
    "import matplotlib.pyplot as plt\n",
    "\n",
    "plt.figure(figsize=(8,5))\n",
    "zone_loss.plot(kind='bar', color='crimson')\n",
    "\n",
    "plt.title(\"Total Overcharge per Delivery Zone\")\n",
    "plt.ylabel(\"₹ Rupees Overcharged\")\n",
    "plt.xlabel(\"Delivery Zone\")\n",
    "plt.xticks(rotation=0)\n",
    "plt.tight_layout()\n",
    "plt.show()\n"
   ]
  },
  {
   "cell_type": "code",
   "execution_count": 52,
   "id": "a96fa2ef",
   "metadata": {},
   "outputs": [],
   "source": [
    "zone_loss_count = merged_output[merged_output['Difference (Rs.)'] > 0].groupby('Delivery Zone Charged by Courier Company')['Difference (Rs.)'].agg(['sum', 'count'])\n",
    "zone_loss_count['Avg Loss per Order'] = zone_loss_count['sum'] / zone_loss_count['count']\n"
   ]
  },
  {
   "cell_type": "markdown",
   "id": "9b6d8ef6",
   "metadata": {},
   "source": [
    "Exportable summary\n",
    "\n",
    ".csv file of all zone-wise metrics and mismatched invoices for a handover or stakeholder update\n"
   ]
  },
  {
   "cell_type": "code",
   "execution_count": null,
   "id": "4ec82a1a",
   "metadata": {},
   "outputs": [],
   "source": [
    "#Create the Zone Summary Table\n",
    "zone_summary = merged_output.groupby('Delivery Zone Charged by Courier Company').agg(\n",
    "    Total_Orders=('Order ID', 'count'),\n",
    "    Overcharged_Orders=('Difference (Rs.)', lambda x: (x > 0).sum()),\n",
    "    Accurate_Orders=('Difference (Rs.)', lambda x: (x.round(2) == 0).sum()),\n",
    "    Total_Loss_RS=('Difference (Rs.)', lambda x: x[x > 0].sum())\n",
    ")\n",
    "\n",
    "zone_summary['Accuracy (%)'] = 100 * zone_summary['Accurate_Orders'] / zone_summary['Total_Orders']\n",
    "zone_summary['Overcharge Rate (%)'] = 100 * zone_summary['Overcharged_Orders'] / zone_summary['Total_Orders']\n",
    "zone_summary['Avg Loss per Overcharged Order'] = zone_summary['Total_Loss_RS'] / zone_summary['Overcharged_Orders']\n",
    "zone_summary = zone_summary.round(2)\n"
   ]
  },
  {
   "cell_type": "code",
   "execution_count": 54,
   "id": "d57da7a6",
   "metadata": {},
   "outputs": [],
   "source": [
    "#Export to Excel or CSV\n",
    "zone_summary.to_csv(\"zone_summary_report.csv\")\n",
    "# or for Excel\n",
    "# zone_summary.to_excel(\"zone_summary_report.xlsx\")\n"
   ]
  },
  {
   "cell_type": "markdown",
   "id": "56fb1fdb",
   "metadata": {},
   "source": [
    "This file will contain metrics like:\n",
    "\n",
    "- Total orders per zone\n",
    "\n",
    "- % of accurate vs. overcharged shipments\n",
    "\n",
    "- Total ₹ overcharged\n",
    "\n",
    "- Avg ₹ lost per bad invoice"
   ]
  },
  {
   "cell_type": "code",
   "execution_count": null,
   "id": "c87deb53",
   "metadata": {},
   "outputs": [],
   "source": []
  }
 ],
 "metadata": {
  "kernelspec": {
   "display_name": "base",
   "language": "python",
   "name": "python3"
  },
  "language_info": {
   "codemirror_mode": {
    "name": "ipython",
    "version": 3
   },
   "file_extension": ".py",
   "mimetype": "text/x-python",
   "name": "python",
   "nbconvert_exporter": "python",
   "pygments_lexer": "ipython3",
   "version": "3.12.7"
  }
 },
 "nbformat": 4,
 "nbformat_minor": 5
}
